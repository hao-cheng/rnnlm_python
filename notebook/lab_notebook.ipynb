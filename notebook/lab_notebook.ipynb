{
 "cells": [
  {
   "cell_type": "markdown",
   "metadata": {},
   "source": [
    "# Part 0: Your first neuron\n"
   ]
  },
  {
   "cell_type": "markdown",
   "metadata": {},
   "source": [
    "## Recurrent Unit\n",
    "Let's define the following recurrent unit\n",
    "$$ h_t = f(W_{hh} h_{t-1} + W_{hx}x_t) $$\n",
    "where $$t=1,\\ldots,\\infty,h_t \\text{ is the current state}, h_{t-1} \\text{ is the previous state}, $$\n",
    "$$x_t \\text{ is the current input}.$$\n",
    "Here, f(y) is the sigmoid function, $$f(y)=\\frac{1}{1+\\exp(-y)}.$$"
   ]
  },
  {
   "cell_type": "markdown",
   "metadata": {},
   "source": [
    "What does the sigmoid function look like?"
   ]
  },
  {
   "cell_type": "code",
   "execution_count": 17,
   "metadata": {
    "collapsed": false
   },
   "outputs": [
    {
     "data": {
      "image/png": "[encoded data removed]",
      "text/plain": [
       "<matplotlib.figure.Figure at 0x7f422abdf5d0>"
      ]
     },
     "metadata": {},
     "output_type": "display_data"
    }
   ],
   "source": [
    "## Plot sigmoid function in 1D\n",
    "%matplotlib inline\n",
    "import matplotlib\n",
    "import numpy as np\n",
    "\n",
    "import matplotlib.pyplot as plt\n",
    "\n",
    "def sigmoid(y):\n",
    "    return 1 / (1 + np.exp(-y))\n",
    "\n",
    "# You can change the bound from 5, 10, 20 up to 50 to see the shape change\n",
    "bound = 5\n",
    "x = np.arange(-bound, bound, 0.5)\n",
    "plt.plot(x, sigmoid(x))\n",
    "plt.show()"
   ]
  },
  {
   "cell_type": "code",
   "execution_count": 29,
   "metadata": {
    "collapsed": false
   },
   "outputs": [
    {
     "name": "stdout",
     "output_type": "stream",
     "text": [
      "The size of matrix A is 3x5\n",
      "The size of vector b is 5x1\n",
      "The size of vector c is 3x1\n",
      "The vector c is\n",
      "[[ 5]\n",
      " [ 5]\n",
      " [ 5]]\n"
     ]
    }
   ],
   "source": [
    "## How to code algebracially?\n",
    "\n",
    "## Matrix-vector multiplication\n",
    "## A is a nxt maxtrix, b is a tx1 vector\n",
    "## c is a nx1 vector, the multiplication result of A and b\n",
    "n = 3\n",
    "t = 5\n",
    "A = np.ones([n, t])   # initlize A as a nxt all one matrix\n",
    "print 'The size of matrix A is {}x{}'.format(A.shape[0], A.shape[1])\n",
    "b = np.ones([t, 1]) # initlize b as a tx1 all one vector\n",
    "print 'The size of vector b is {}x{}'.format(b.shape[0], b.shape[1])\n",
    "c = np.dot(A, b)\n",
    "print 'The size of vector c is {}x{}'.format(c.shape[0], c.shape[1])\n",
    "\n",
    "print 'The vector c is'_\n",
    "print c.astype('i')\n"
   ]
  },
  {
   "cell_type": "markdown",
   "metadata": {},
   "source": [
    "Let's code up the forward function of the recurrent unit.\n",
    "Please fill in < input your code here > below."
   ]
  },
  {
   "cell_type": "code",
   "execution_count": 38,
   "metadata": {
    "collapsed": false
   },
   "outputs": [],
   "source": [
    "## Given input x, previous state hprev, parameter matrices Whx and Whh\n",
    "## Compute the current state h\n",
    "## Code up the forward function of the recurrent unit define above\n",
    "## Remember to return the current state h\n",
    "\n",
    "hidden_size = 10\n",
    "input_size = 5\n",
    "\n",
    "Whh = np.zeros([hidden_size, hidden_size])\n",
    "Whh += np.random.uniform(-0.1, 0.1, [hidden_size, hidden_size])\n",
    "\n",
    "Whx = np.zeros([hidden_size, input_size])\n",
    "Whx += np.random.uniform(-0.1, 0.1, [hidden_size, input_size])\n",
    "\n",
    "def forward_function(x, hprev, Whx, Whh):\n",
    "    ## first compute the matrix-vector multiplication\n",
    "    # Whx x + Whh hprev\n",
    "    ##h = <input your code here>\n",
    "    h = np.dot(Whx, x) + np.dot(Whh, hprev)\n",
    "    ## use the sigmoid function to compute the current state\n",
    "    #h = sigmoid(<input your code here>)\n",
    "    h = sigmoid(h)\n",
    "    return h\n",
    "\n",
    "\n",
    "x = np.random.randn(input_size, 1)\n",
    "hprev = np.zeros([hidden_size, 1])\n",
    "h = forward_function(x, hprev, Whx, Whh)\n",
    "    "
   ]
  },
  {
   "cell_type": "code",
   "execution_count": null,
   "metadata": {
    "collapsed": true
   },
   "outputs": [],
   "source": [
    "## perform assert here"
   ]
  },
  {
   "cell_type": "markdown",
   "metadata": {},
   "source": [
    "An import component of making the neuron to learn is to train it through gradient optimization. In order to do that, we first have to learn to take the derivative of the above unit.\n",
    "Let's do the derivatives in matrix form!"
   ]
  },
  {
   "cell_type": "markdown",
   "metadata": {},
   "source": [
    "Here is the cheatsheet:\n",
    "\n",
    "First let us define\n",
    "$$ y = W_{hh} h_{t-1} + W_{hx} x_t.$$\n",
    "### Important gradient one: \n",
    "\n",
    "$$ \n",
    "\\frac{\\partial h_t}{\\partial h_{t-1}} = f\\prime(y)^T W_{hh},\n",
    "$$\n",
    "where\n",
    "$$\n",
    "f\\prime(y)=\\frac{\\partial f(y)}{y}=\\frac{\\partial \\frac{1}{1+\\exp(-y)}}{\\partial y}=\\frac{\\exp(-y)}{(1+\\exp(-y))^2} = (1-f(y))f(y),\n",
    "$$ is the gradient of sigmoid function.\n",
    "Can you verfiy the above gradient?\n",
    "\n",
    "### Important gradient two:\n",
    "$$ \n",
    "\\frac{\\partial h_t}{\\partial W_{hh}} = \\frac{\\partial h_t}{\\partial y} h_{t-1}^T = f\\prime(y) h_{t-1}^T\n",
    "$$\n",
    "\n",
    "### Important gradient three:\n",
    "$$ \n",
    "\\frac{\\partial h_t}{\\partial W_{hx}} = \\frac{\\partial h_t}{\\partial y} x_{t}^T = f\\prime(y) x_{t}^T\n",
    "$$\n"
   ]
  },
  {
   "cell_type": "markdown",
   "metadata": {},
   "source": [
    "Let's code up a backward function which accepts a training/error signal to weight the gradients and output the three gradients above."
   ]
  },
  {
   "cell_type": "code",
   "execution_count": 39,
   "metadata": {
    "collapsed": false
   },
   "outputs": [],
   "source": [
    "## Given a training/error signal dEdh, input x, previous state hprev\n",
    "## parameters Whh, Whx\n",
    "## Return the three graidents above\n",
    "\n",
    "def backward_function(x, hprev, dEdh, Whx, Whh):\n",
    "    ## compute the gradient of sigmoid function\n",
    "    #f_prime = <input your code here>\n",
    "    f_prime = (1 - h) * h\n",
    "    ## weight the gradient by training/error signal\n",
    "    f_prime *= dEdh\n",
    "    ## compute the gradient one \n",
    "    #dEdhprev = <input your code here>\n",
    "    dEdhprev = np.dot(f_prime.T, Whh)\n",
    "    ## compute the gradient two\n",
    "    # dWhh = <input your code here>\n",
    "    dWhh = np.dot(f_prime, hprev.T)\n",
    "    ## compute the gradient three\n",
    "    # dWhx = <input your code here>\n",
    "    dWhx = np.dot(f_prime, x.T)\n",
    "    return f_prime.T, dWhx, dWhh\n",
    "\n",
    "# compute gradients\n",
    "E = np.sum(h)\n",
    "dEdh = np.ones([hidden_size, 1])\n",
    "\n",
    "dEdhprev, dWhx, dWhh = backward_function(x, hprev, dEdh, Whx, Whh)\n",
    "    \n",
    "    "
   ]
  },
  {
   "cell_type": "code",
   "execution_count": 40,
   "metadata": {
    "collapsed": false
   },
   "outputs": [
    {
     "name": "stdout",
     "output_type": "stream",
     "text": [
      "Check Passed! Diff is 0.0\n"
     ]
    }
   ],
   "source": [
    "## Check whether your code is right\n",
    "\n",
    "# Numerical gradient computation\n",
    "epsilon = 1e-7                                         \n",
    "numdWhh = np.zeros([hidden_size,hidden_size])       \n",
    "for i in range(hidden_size):                           \n",
    "    for j in range(hidden_size):                       \n",
    "        newWhh = np.copy(Whh)                          \n",
    "        newWhh[i,j] += epsilon                         \n",
    "                                                           \n",
    "        h = forward_function(x, hprev, Whx, newWhh)\n",
    "        newE = np.sum(h)                               \n",
    "        numdWhh[i,j] = (newE - E) / epsilon            \n",
    "                                                           \n",
    "diff = np.sum(numdWhh - dWhh)                          \n",
    "assert diff < 1e-3                                     \n",
    "print 'Check Passed! Diff is', diff "
   ]
  },
  {
   "cell_type": "code",
   "execution_count": null,
   "metadata": {
    "collapsed": true
   },
   "outputs": [],
   "source": []
  }
 ],
 "metadata": {
  "kernelspec": {
   "display_name": "Python 2",
   "language": "python",
   "name": "python2"
  },
  "language_info": {
   "codemirror_mode": {
    "name": "ipython",
    "version": 2
   },
   "file_extension": ".py",
   "mimetype": "text/x-python",
   "name": "python",
   "nbconvert_exporter": "python",
   "pygments_lexer": "ipython2",
   "version": "2.7.6"
  }
 },
 "nbformat": 4,
 "nbformat_minor": 0
}
